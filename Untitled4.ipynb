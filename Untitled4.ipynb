{
  "nbformat": 4,
  "nbformat_minor": 0,
  "metadata": {
    "colab": {
      "provenance": [],
      "gpuType": "T4"
    },
    "kernelspec": {
      "name": "python3",
      "display_name": "Python 3"
    },
    "language_info": {
      "name": "python"
    },
    "accelerator": "GPU"
  },
  "cells": [
    {
      "cell_type": "markdown",
      "source": [
        "Kaggle dataset used:\n",
        "\n",
        "https://www.kaggle.com/datasets/meowmeowmeowmeowmeow/gtsrb-german-traffic-sign/data\n"
      ],
      "metadata": {
        "id": "cYeFN2YjBGdV"
      }
    },
    {
      "cell_type": "code",
      "source": [
        "from google.colab import drive\n",
        "import zipfile\n",
        "\n",
        "# Mount Google Drive\n",
        "drive.mount('/content/drive')\n",
        "\n",
        "# Define the path to the zip file in your Google Drive\n",
        "file_path = '/content/drive/My Drive/archive.zip'\n",
        "\n",
        "# Define the extraction path where you want to extract the contents\n",
        "extraction_path = '/content/'\n",
        "\n",
        "# Extract archive.zip\n",
        "with zipfile.ZipFile(file_path, 'r') as zip_ref:\n",
        "    zip_ref.extractall(extraction_path)\n"
      ],
      "metadata": {
        "id": "a2upmGCL0OOp",
        "colab": {
          "base_uri": "https://localhost:8080/"
        },
        "outputId": "f8e05287-93ac-4f1d-febf-8c66ab63d25d"
      },
      "execution_count": 28,
      "outputs": [
        {
          "output_type": "stream",
          "name": "stdout",
          "text": [
            "Drive already mounted at /content/drive; to attempt to forcibly remount, call drive.mount(\"/content/drive\", force_remount=True).\n"
          ]
        }
      ]
    },
    {
      "cell_type": "code",
      "source": [
        "import tensorflow as tf\n",
        "from tensorflow.keras.preprocessing.image import ImageDataGenerator\n",
        "from tensorflow.keras.models import Sequential\n",
        "from tensorflow.keras.layers import Conv2D, MaxPooling2D, Flatten, Dense, Dropout\n",
        "from tensorflow.keras.utils import to_categorical\n",
        "import numpy as np\n",
        "import pandas as pd\n",
        "import os\n",
        "import csv\n",
        "from sklearn.model_selection import train_test_split"
      ],
      "metadata": {
        "id": "adDab7Ee21z9"
      },
      "execution_count": 29,
      "outputs": []
    },
    {
      "cell_type": "markdown",
      "source": [
        "Loading the data\n"
      ],
      "metadata": {
        "id": "v-eyomwlCMuV"
      }
    },
    {
      "cell_type": "code",
      "source": [
        "import csv\n",
        "import os\n",
        "import numpy as np\n",
        "import tensorflow as tf\n",
        "\n",
        "def load_data():\n",
        "    trainX = []\n",
        "    trainY = []\n",
        "    testX = []\n",
        "    testY = []\n",
        "\n",
        "    with open('Train.csv', mode='r') as file:\n",
        "        csv_reader = csv.reader(file)\n",
        "        for row in csv_reader:\n",
        "            if row[-1] == \"Path\":\n",
        "                continue\n",
        "            path = row[-1]\n",
        "            classId = row[-2]\n",
        "            image_path = os.path.join(os.getcwd(), path)\n",
        "\n",
        "            #load the image and fit it into a target size and convert into a usable numpy array.\n",
        "            image = tf.keras.preprocessing.image.load_img(image_path, target_size=(32, 32))\n",
        "            image_array = tf.keras.preprocessing.image.img_to_array(image)\n",
        "            label = int(classId)\n",
        "            trainX.append(image_array)\n",
        "            trainY.append(label)\n",
        "\n",
        "    with open('Test.csv', mode='r') as file:\n",
        "        csv_reader = csv.reader(file)\n",
        "        for row in csv_reader:\n",
        "            if row[-1] == \"Path\":\n",
        "                continue\n",
        "            path = row[-1]\n",
        "            classId = row[-2]\n",
        "            image_path = os.path.join(os.getcwd(), path)\n",
        "            #load the image and fit it into a target size and convert into a usable numpy array.\n",
        "            image = tf.keras.preprocessing.image.load_img(image_path, target_size=(32, 32))\n",
        "            image_array = tf.keras.preprocessing.image.img_to_array(image)\n",
        "            label = int(classId)\n",
        "            testX.append(image_array)\n",
        "            testY.append(label)\n",
        "\n",
        "    return np.array(trainX), np.array(trainY), np.array(testX), np.array(testY)\n",
        "\n",
        "x_train, y_train, x_test, y_test = load_data()\n"
      ],
      "metadata": {
        "id": "vg4Zt1-PQNNG"
      },
      "execution_count": 30,
      "outputs": []
    },
    {
      "cell_type": "code",
      "source": [],
      "metadata": {
        "id": "Dua4Z49rnDby"
      },
      "execution_count": 30,
      "outputs": []
    },
    {
      "cell_type": "markdown",
      "source": [
        "Define the Model"
      ],
      "metadata": {
        "id": "ljX_0z3ACr9T"
      }
    },
    {
      "cell_type": "code",
      "source": [
        "\n",
        "x_train = np.array(x_train)\n",
        "x_test = np.array(x_test)\n",
        "y_train = np.array(y_train)\n",
        "y_test = np.array(y_test)\n",
        "\n",
        "num_classes = len(np.unique(y_train))\n",
        "\n",
        "\n",
        "x_train = x_train/255.0\n",
        "y_train = to_categorical(y_train, num_classes=num_classes)\n",
        "x_test = x_test/255.0\n",
        "y_test = to_categorical(y_test, num_classes=num_classes)\n",
        "\n",
        "x_train, x_val, y_train, y_val = train_test_split(x_train, y_train, test_size=0.2, random_state=42)\n",
        "\n",
        "print(len(x_train), len(y_train))\n",
        "\n",
        "#Seqentual model\n",
        "model = Sequential([\n",
        "\n",
        "    # Convolutional layers\n",
        "    Conv2D(32, (3, 3), activation='relu', input_shape=(32, 32, 3)),\n",
        "    MaxPooling2D((2, 2)),\n",
        "    Conv2D(64, (3, 3), activation='relu'),\n",
        "    MaxPooling2D((2, 2)),\n",
        "    Conv2D(128, (3, 3), activation='relu'),\n",
        "    MaxPooling2D((2, 2)),\n",
        "\n",
        "    #flatten layer\n",
        "    Flatten(),\n",
        "    #1 hidden layer\n",
        "    Dense(512, activation='relu'),\n",
        "\n",
        "    #dropout to prevent overfitting\n",
        "    Dropout(0.5),\n",
        "\n",
        "    #output layer\n",
        "    Dense(num_classes, activation='softmax')\n",
        "])\n",
        "\n",
        "#compile the model\n",
        "model.compile(\n",
        "    # adam optimizer\n",
        "    optimizer='adam',\n",
        "    loss='categorical_crossentropy',\n",
        "    metrics=['accuracy']\n",
        ")\n",
        "\n",
        "model.summary()"
      ],
      "metadata": {
        "colab": {
          "base_uri": "https://localhost:8080/"
        },
        "collapsed": true,
        "id": "luaHYOw8m0Ld",
        "outputId": "5aaf0ec3-b971-43a0-b23f-689cc15d822e"
      },
      "execution_count": 31,
      "outputs": [
        {
          "output_type": "stream",
          "name": "stdout",
          "text": [
            "31367 31367\n",
            "Model: \"sequential_4\"\n",
            "_________________________________________________________________\n",
            " Layer (type)                Output Shape              Param #   \n",
            "=================================================================\n",
            " conv2d_12 (Conv2D)          (None, 30, 30, 32)        896       \n",
            "                                                                 \n",
            " max_pooling2d_12 (MaxPooli  (None, 15, 15, 32)        0         \n",
            " ng2D)                                                           \n",
            "                                                                 \n",
            " conv2d_13 (Conv2D)          (None, 13, 13, 64)        18496     \n",
            "                                                                 \n",
            " max_pooling2d_13 (MaxPooli  (None, 6, 6, 64)          0         \n",
            " ng2D)                                                           \n",
            "                                                                 \n",
            " conv2d_14 (Conv2D)          (None, 4, 4, 128)         73856     \n",
            "                                                                 \n",
            " max_pooling2d_14 (MaxPooli  (None, 2, 2, 128)         0         \n",
            " ng2D)                                                           \n",
            "                                                                 \n",
            " flatten_4 (Flatten)         (None, 512)               0         \n",
            "                                                                 \n",
            " dense_8 (Dense)             (None, 512)               262656    \n",
            "                                                                 \n",
            " dropout_4 (Dropout)         (None, 512)               0         \n",
            "                                                                 \n",
            " dense_9 (Dense)             (None, 43)                22059     \n",
            "                                                                 \n",
            "=================================================================\n",
            "Total params: 377963 (1.44 MB)\n",
            "Trainable params: 377963 (1.44 MB)\n",
            "Non-trainable params: 0 (0.00 Byte)\n",
            "_________________________________________________________________\n"
          ]
        }
      ]
    },
    {
      "cell_type": "code",
      "source": [
        "model.fit(\n",
        "    x= x_train,\n",
        "    y = y_train,\n",
        "    validation_data=(x_val, y_val),\n",
        "    epochs=10\n",
        ")"
      ],
      "metadata": {
        "colab": {
          "base_uri": "https://localhost:8080/"
        },
        "collapsed": true,
        "id": "VEUWEWNWZiCI",
        "outputId": "98e3f700-81a1-4e7c-9de5-29d09a6f407a"
      },
      "execution_count": 32,
      "outputs": [
        {
          "output_type": "stream",
          "name": "stdout",
          "text": [
            "Epoch 1/10\n",
            "981/981 [==============================] - 71s 71ms/step - loss: 1.4697 - accuracy: 0.5652 - val_loss: 0.3186 - val_accuracy: 0.9044\n",
            "Epoch 2/10\n",
            "981/981 [==============================] - 66s 67ms/step - loss: 0.2589 - accuracy: 0.9190 - val_loss: 0.1227 - val_accuracy: 0.9702\n",
            "Epoch 3/10\n",
            "981/981 [==============================] - 66s 67ms/step - loss: 0.1306 - accuracy: 0.9599 - val_loss: 0.0938 - val_accuracy: 0.9719\n",
            "Epoch 4/10\n",
            "981/981 [==============================] - 69s 70ms/step - loss: 0.0895 - accuracy: 0.9727 - val_loss: 0.0543 - val_accuracy: 0.9851\n",
            "Epoch 5/10\n",
            "981/981 [==============================] - 67s 69ms/step - loss: 0.0693 - accuracy: 0.9791 - val_loss: 0.0425 - val_accuracy: 0.9879\n",
            "Epoch 6/10\n",
            "981/981 [==============================] - 71s 72ms/step - loss: 0.0553 - accuracy: 0.9834 - val_loss: 0.0412 - val_accuracy: 0.9890\n",
            "Epoch 7/10\n",
            "981/981 [==============================] - 73s 74ms/step - loss: 0.0436 - accuracy: 0.9860 - val_loss: 0.0613 - val_accuracy: 0.9813\n",
            "Epoch 8/10\n",
            "981/981 [==============================] - 66s 67ms/step - loss: 0.0441 - accuracy: 0.9869 - val_loss: 0.0438 - val_accuracy: 0.9885\n",
            "Epoch 9/10\n",
            "981/981 [==============================] - 65s 67ms/step - loss: 0.0314 - accuracy: 0.9907 - val_loss: 0.0525 - val_accuracy: 0.9861\n",
            "Epoch 10/10\n",
            "981/981 [==============================] - 64s 65ms/step - loss: 0.0352 - accuracy: 0.9896 - val_loss: 0.0529 - val_accuracy: 0.9875\n"
          ]
        },
        {
          "output_type": "execute_result",
          "data": {
            "text/plain": [
              "<keras.src.callbacks.History at 0x7b6cd2e76080>"
            ]
          },
          "metadata": {},
          "execution_count": 32
        }
      ]
    },
    {
      "cell_type": "code",
      "source": [
        "model.save(\"signmodel\")"
      ],
      "metadata": {
        "id": "yRyrqjsW0qnI"
      },
      "execution_count": 33,
      "outputs": []
    },
    {
      "cell_type": "code",
      "source": [
        "loaded_model = tf.keras.models.load_model(\"signmodel\")\n",
        "test_loss, test_accuracy = loaded_model.evaluate(x_test, y_test)\n",
        "print(\"Test Loss:\", test_loss)\n",
        "print(\"Test Accuracy:\", test_accuracy)"
      ],
      "metadata": {
        "colab": {
          "base_uri": "https://localhost:8080/"
        },
        "id": "ciJn4si60wP-",
        "outputId": "d4d38387-2164-4811-993b-62b6323e80f7"
      },
      "execution_count": 34,
      "outputs": [
        {
          "output_type": "stream",
          "name": "stdout",
          "text": [
            "395/395 [==============================] - 9s 21ms/step - loss: 0.3022 - accuracy: 0.9436\n",
            "Test Loss: 0.3022206723690033\n",
            "Test Accuracy: 0.9436262845993042\n"
          ]
        }
      ]
    },
    {
      "cell_type": "code",
      "source": [],
      "metadata": {
        "id": "dEhmZJHN00kh"
      },
      "execution_count": 34,
      "outputs": []
    },
    {
      "cell_type": "code",
      "source": [],
      "metadata": {
        "id": "7V_zhIRq00jE"
      },
      "execution_count": 34,
      "outputs": []
    }
  ]
}